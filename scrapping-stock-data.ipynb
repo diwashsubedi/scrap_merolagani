{
 "cells": [
  {
   "cell_type": "code",
   "execution_count": 3,
   "metadata": {
    "collapsed": true
   },
   "outputs": [],
   "source": [
    "from bs4 import BeautifulSoup\n",
    "from urllib.request import urlopen"
   ]
  },
  {
   "cell_type": "code",
   "execution_count": 4,
   "metadata": {
    "collapsed": false
   },
   "outputs": [],
   "source": [
    "url=\"http://merolagani.com/CompanyList.aspx?fbclid=IwAR3-iBenAzk8iv7Oj4Gwj_jVzsc6OXWTxaMu_IaJZHstShpqhVaf63jpiuY\"\n",
    "html = urlopen(url)\n",
    "bsobj= BeautifulSoup(html,'html.parser')"
   ]
  },
  {
   "cell_type": "code",
   "execution_count": 5,
   "metadata": {
    "collapsed": false
   },
   "outputs": [],
   "source": [
    "accordion=bsobj.find(id=\"accordion\")\n",
    "panels=accordion.findAll(class_=\"panel\")"
   ]
  },
  {
   "cell_type": "code",
   "execution_count": 57,
   "metadata": {
    "collapsed": true
   },
   "outputs": [],
   "source": [
    "data=[['Symbol','Company Name','Listed Shares','Paidup Value','Total Paidup']]"
   ]
  },
  {
   "cell_type": "code",
   "execution_count": 59,
   "metadata": {
    "collapsed": false
   },
   "outputs": [],
   "source": [
    "for panel in panels:\n",
    "    symbol=companyName=listedShares=paidupValue=totalPaidup=[]\n",
    "    tableRows = panel.findAll('tr') \n",
    "    for i in range(1,len(tableRows)):\n",
    "        symbol=tableRows[i].find('td').text.strip()\n",
    "        companyName=tableRows[i].findAll('td')[1].text.strip()\n",
    "        listedShares=int(tableRows[i].findAll('td')[2].text.strip().replace(',',''))\n",
    "        paidupValue=int(float(tableRows[i].findAll('td')[3].text.strip().replace(',','')))\n",
    "        totalPaidup=int(float(tableRows[i].findAll('td')[4].text.strip().replace(',','')))\n",
    "        row=[symbol,companyName,listedShares,paidupValue,totalPaidup]\n",
    "        data.append(row)"
   ]
  },
  {
   "cell_type": "code",
   "execution_count": 61,
   "metadata": {
    "collapsed": false
   },
   "outputs": [],
   "source": [
    "import csv\n",
    "myfile = open(\"data.csv\",\"w\")\n",
    "with myfile:  \n",
    "   writer=csv.writer(myfile)\n",
    "   writer.writerows(data)"
   ]
  },
  {
   "cell_type": "code",
   "execution_count": null,
   "metadata": {
    "collapsed": true
   },
   "outputs": [],
   "source": []
  }
 ],
 "metadata": {
  "kernelspec": {
   "display_name": "Python 3",
   "language": "python",
   "name": "python3"
  },
  "language_info": {
   "codemirror_mode": {
    "name": "ipython",
    "version": 3
   },
   "file_extension": ".py",
   "mimetype": "text/x-python",
   "name": "python",
   "nbconvert_exporter": "python",
   "pygments_lexer": "ipython3",
   "version": "3.6.0"
  }
 },
 "nbformat": 4,
 "nbformat_minor": 2
}
